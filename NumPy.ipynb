{
 "cells": [
  {
   "cell_type": "markdown",
   "id": "2347970a",
   "metadata": {},
   "source": [
    "## NumPy : Numerical Python \n",
    "    -It is an array \n",
    "    -It is core python library \n",
    "    -We are using numpy to perform the complex operation \n",
    "    -NumPy is an extension to the multidimensional array. \n",
    "    -Array is a collection of homogeneous/ Similar Kind data \n",
    "    \n",
    "##### 1    why NumPy \n",
    "* Performing the operation on higher dimensional array -- Complex Operation in a machine learning each feature as a *dimension\n",
    "\n",
    "* Scalar: Only Magnitude EX: Displacement \n",
    "\n",
    "* Vector: Magnitude as well as dimension \n",
    "\n",
    "* Dimensionaliity Reduction : PCA , TSNE \n",
    "\n",
    "##### 2 Complex Matrix Operation : \n",
    "* 1D : Vector \n",
    "* 2D : Matrix \n",
    "* 3D : Cube \n",
    "* ND : Tensors \n",
    "\n",
    "##### A. Matrix Multiplication : Costly / Complex \n",
    "* Because of the vectorization NumPy perform the multiplication in a faster way. \n",
    "    - Inverse \n",
    "    - rank \n",
    "    - Transpose \n",
    "    - Eigen Value & Eigen Vectors \n",
    "    - Determinant \n",
    "    - Linear Equation (a1x + b1yc + c = 0 ) \n",
    "    \n",
    "    - Linear Equation can be solving using methods like:\n",
    "     - 1 Simultaneous Equation \n",
    "     - Inversion , Reduction -- Matrix \n",
    "     - 3 LPP : Simplest Method \n",
    "\n",
    "##### 3. Another Use cases of NumPy is Numerical method and optimization ; \n",
    "* In a Mathematics we have two kind of method : \n",
    "\n",
    "    - 1.analytical method\n",
    "    :If we have a formulation , method , theorem or axioms to solve a particular problem then we called it is analytical method  \n",
    "             \n",
    "     - 2.Numerical Method \n",
    "    :It is Kind of procedure or we can say approximmation ex: Newton raphson \n",
    "     - Vector Computing \n",
    "     - Stastical Operation : way of  solving the problem by collecting data and summarize \n",
    "##### 4 . It is Open  Source and freeware : \n",
    "    * It is available for everyone and freeware means it will no cost \n",
    "           \n",
    "           \n",
    "\n",
    "-----------------------------------------------------------------------\n",
    "* For using the Numpy We have to import it  import numpy as np\n",
    "  syntax ; \n",
    "  import -- keyword \n",
    "  numpy---- library name \n",
    "  np : alias "
   ]
  },
  {
   "cell_type": "code",
   "execution_count": 1,
   "id": "15ec49a8",
   "metadata": {},
   "outputs": [
    {
     "name": "stdout",
     "output_type": "stream",
     "text": [
      "Requirement already satisfied: Numpy in c:\\users\\badal\\anaconda3\\lib\\site-packages (1.24.3)Note: you may need to restart the kernel to use updated packages.\n",
      "\n"
     ]
    }
   ],
   "source": [
    "pip install Numpy;"
   ]
  },
  {
   "cell_type": "markdown",
   "id": "15c2b22c",
   "metadata": {},
   "source": [
    "### Creating Numpy Array :\n",
    "* np.array function\n",
    "    - We are creating manually with the help of np.array()& always taking list as *argument*\n",
    "    - It is in Fixed size \n",
    "    \n",
    "    \n",
    "    [ ] it is 1D Array \n",
    "    \n",
    "    [[ ]] it is 2D Array\n",
    "    \n",
    "    ndim : It will gives the dimension of the numpy array \n",
    "        - syntax : array_name.ndim"
   ]
  },
  {
   "cell_type": "code",
   "execution_count": 1,
   "id": "9465fb03",
   "metadata": {},
   "outputs": [],
   "source": [
    "import numpy as np "
   ]
  },
  {
   "cell_type": "code",
   "execution_count": 2,
   "id": "595e6ee0",
   "metadata": {},
   "outputs": [],
   "source": [
    "array1 = np.array([11,12,13,14,15])"
   ]
  },
  {
   "cell_type": "markdown",
   "id": "b7716b92",
   "metadata": {},
   "source": [
    "* np.array() : it is the way of creating array manually "
   ]
  },
  {
   "cell_type": "code",
   "execution_count": 3,
   "id": "46589627",
   "metadata": {},
   "outputs": [
    {
     "data": {
      "text/plain": [
       "array([11, 12, 13, 14, 15])"
      ]
     },
     "execution_count": 3,
     "metadata": {},
     "output_type": "execute_result"
    }
   ],
   "source": [
    "array1"
   ]
  },
  {
   "cell_type": "code",
   "execution_count": 4,
   "id": "9962ca24",
   "metadata": {},
   "outputs": [
    {
     "data": {
      "text/plain": [
       "numpy.ndarray"
      ]
     },
     "execution_count": 4,
     "metadata": {},
     "output_type": "execute_result"
    }
   ],
   "source": [
    "type(array1)"
   ]
  },
  {
   "cell_type": "code",
   "execution_count": 5,
   "id": "7108a7b2",
   "metadata": {},
   "outputs": [
    {
     "data": {
      "text/plain": [
       "1"
      ]
     },
     "execution_count": 5,
     "metadata": {},
     "output_type": "execute_result"
    }
   ],
   "source": [
    "array1.ndim #it will show the array's dimension "
   ]
  },
  {
   "cell_type": "code",
   "execution_count": 7,
   "id": "f66b541f",
   "metadata": {},
   "outputs": [],
   "source": [
    "array2 = np.array([[1,2,3,4],[11,22,33,44]])# This is the 2 dimensional Array "
   ]
  },
  {
   "cell_type": "code",
   "execution_count": 8,
   "id": "eed42c86",
   "metadata": {},
   "outputs": [
    {
     "data": {
      "text/plain": [
       "array([[ 1,  2,  3,  4],\n",
       "       [11, 22, 33, 44]])"
      ]
     },
     "execution_count": 8,
     "metadata": {},
     "output_type": "execute_result"
    }
   ],
   "source": [
    "array2"
   ]
  },
  {
   "cell_type": "code",
   "execution_count": 10,
   "id": "90a05ea8",
   "metadata": {},
   "outputs": [
    {
     "data": {
      "text/plain": [
       "2"
      ]
     },
     "execution_count": 10,
     "metadata": {},
     "output_type": "execute_result"
    }
   ],
   "source": [
    "array2.ndim # this is how it shows the dimension of the array "
   ]
  },
  {
   "cell_type": "code",
   "execution_count": 11,
   "id": "3d49d9e8",
   "metadata": {},
   "outputs": [],
   "source": [
    "#Print 3D array (length , width , height)\n",
    "array3 = np.array([[[1,2,3],[4,5,6],[7,8,9]]])"
   ]
  },
  {
   "cell_type": "code",
   "execution_count": 12,
   "id": "217e9a61",
   "metadata": {},
   "outputs": [
    {
     "data": {
      "text/plain": [
       "array([[[1, 2, 3],\n",
       "        [4, 5, 6],\n",
       "        [7, 8, 9]]])"
      ]
     },
     "execution_count": 12,
     "metadata": {},
     "output_type": "execute_result"
    }
   ],
   "source": [
    "array3"
   ]
  },
  {
   "cell_type": "code",
   "execution_count": 13,
   "id": "815dd7d2",
   "metadata": {},
   "outputs": [
    {
     "data": {
      "text/plain": [
       "3"
      ]
     },
     "execution_count": 13,
     "metadata": {},
     "output_type": "execute_result"
    }
   ],
   "source": [
    "array3.ndim"
   ]
  },
  {
   "cell_type": "markdown",
   "id": "3d607419",
   "metadata": {},
   "source": [
    "### Numpy array using arange():\n",
    "\n",
    "*  we are creating the numpyy array with ar range with the format :-arange(start , Stop  , step)"
   ]
  },
  {
   "cell_type": "code",
   "execution_count": 3,
   "id": "ee7c498c",
   "metadata": {},
   "outputs": [],
   "source": [
    "import numpy as np \n",
    "array4 = np.arange(10)"
   ]
  },
  {
   "cell_type": "code",
   "execution_count": 4,
   "id": "7f07c1bb",
   "metadata": {},
   "outputs": [
    {
     "name": "stdout",
     "output_type": "stream",
     "text": [
      "[0 1 2 3 4 5 6 7 8 9]\n"
     ]
    }
   ],
   "source": [
    "print(array4)"
   ]
  },
  {
   "cell_type": "code",
   "execution_count": 6,
   "id": "cbc28ff3",
   "metadata": {},
   "outputs": [
    {
     "data": {
      "text/plain": [
       "array([10, 13, 16, 19])"
      ]
     },
     "execution_count": 6,
     "metadata": {},
     "output_type": "execute_result"
    }
   ],
   "source": [
    "arr5 = np.arange(10,20,3)\n",
    "arr5"
   ]
  },
  {
   "cell_type": "code",
   "execution_count": 7,
   "id": "19d105c9",
   "metadata": {},
   "outputs": [
    {
     "name": "stdout",
     "output_type": "stream",
     "text": [
      "[[6, 8], [8, 12]]\n"
     ]
    }
   ],
   "source": [
    "#Addition of the matrix using list\n",
    "a = [[1,2],[3,4]]\n",
    "b = [[5,6],[5,8]]\n",
    "c = [[0,0],[0,0]]\n",
    "\n",
    "for i in range (len(a)):\n",
    "    for j in range(len(b)):\n",
    "        c[i][j]= a[i][j]+b[i][j]\n",
    "print(c)"
   ]
  },
  {
   "cell_type": "code",
   "execution_count": 8,
   "id": "84c061ce",
   "metadata": {},
   "outputs": [
    {
     "name": "stdout",
     "output_type": "stream",
     "text": [
      "[[ 6  8]\n",
      " [ 8 12]]\n"
     ]
    }
   ],
   "source": [
    "#Addition of the matrix using Array (here for addition we didn't need for /iterate so it is time efficient)\n",
    "a1 = np.array([[1,2],[3,4]])\n",
    "a2 = np.array([[5,6],[5,8]])\n",
    "a3 = a1+a2\n",
    "print(a3)"
   ]
  },
  {
   "cell_type": "code",
   "execution_count": 9,
   "id": "bb13648c",
   "metadata": {},
   "outputs": [
    {
     "data": {
      "text/plain": [
       "array([[ 5, 12],\n",
       "       [15, 32]])"
      ]
     },
     "execution_count": 9,
     "metadata": {},
     "output_type": "execute_result"
    }
   ],
   "source": [
    "#MAtrix Multiplication using the \n",
    "a1 = np.array([[1,2],[3,4]])\n",
    "a2 = np.array([[5,6],[5,8]])\n",
    "a1*a2"
   ]
  },
  {
   "cell_type": "code",
   "execution_count": 10,
   "id": "08b21b04",
   "metadata": {},
   "outputs": [
    {
     "data": {
      "text/plain": [
       "array([[15, 22],\n",
       "       [35, 50]])"
      ]
     },
     "execution_count": 10,
     "metadata": {},
     "output_type": "execute_result"
    }
   ],
   "source": [
    "a1.dot(a2)"
   ]
  },
  {
   "cell_type": "code",
   "execution_count": 12,
   "id": "06ee4a6a",
   "metadata": {},
   "outputs": [
    {
     "name": "stdout",
     "output_type": "stream",
     "text": [
      "[[17, 17], [47, 47]]\n"
     ]
    }
   ],
   "source": [
    "a = [[1,2],[3,4]]\n",
    "b = [[5,6],[5,8]]\n",
    "c = [[0,0],[0,0]]\n",
    "\n",
    "for i in range (len(a)):\n",
    "    for j in range(len(b)):\n",
    "        for k in range(len(b)):\n",
    "            c[i][j]+= a[i][k]*b[i][k]\n",
    "print(c)"
   ]
  },
  {
   "cell_type": "code",
   "execution_count": 14,
   "id": "0227371a",
   "metadata": {},
   "outputs": [
    {
     "data": {
      "text/plain": [
       "array([0., 0., 0., 0., 0.])"
      ]
     },
     "execution_count": 14,
     "metadata": {},
     "output_type": "execute_result"
    }
   ],
   "source": [
    "arr3 = np.zeros(5)\n",
    "arr3"
   ]
  },
  {
   "cell_type": "code",
   "execution_count": 16,
   "id": "0ecdcf77",
   "metadata": {},
   "outputs": [
    {
     "data": {
      "text/plain": [
       "array([[0., 0., 0., 0., 0.],\n",
       "       [0., 0., 0., 0., 0.],\n",
       "       [0., 0., 0., 0., 0.],\n",
       "       [0., 0., 0., 0., 0.],\n",
       "       [0., 0., 0., 0., 0.]])"
      ]
     },
     "execution_count": 16,
     "metadata": {},
     "output_type": "execute_result"
    }
   ],
   "source": [
    "arr4 = np.zeros((5,5))\n",
    "arr4"
   ]
  },
  {
   "cell_type": "code",
   "execution_count": 25,
   "id": "e4a8d249",
   "metadata": {},
   "outputs": [
    {
     "data": {
      "text/plain": [
       "array([[1., 1., 1.],\n",
       "       [1., 1., 1.],\n",
       "       [1., 1., 1.]])"
      ]
     },
     "execution_count": 25,
     "metadata": {},
     "output_type": "execute_result"
    }
   ],
   "source": [
    "arr5 = np.ones((3,3))\n",
    "arr5"
   ]
  },
  {
   "cell_type": "code",
   "execution_count": 22,
   "id": "945e89db",
   "metadata": {},
   "outputs": [
    {
     "data": {
      "text/plain": [
       "array([[1., 0., 0.],\n",
       "       [0., 1., 0.],\n",
       "       [0., 0., 1.]])"
      ]
     },
     "execution_count": 22,
     "metadata": {},
     "output_type": "execute_result"
    }
   ],
   "source": [
    "arr6  = np.eye(3,3)\n",
    "arr6"
   ]
  },
  {
   "cell_type": "code",
   "execution_count": 31,
   "id": "823e7090",
   "metadata": {},
   "outputs": [
    {
     "data": {
      "text/plain": [
       "array([[1, 0, 0],\n",
       "       [0, 2, 0],\n",
       "       [0, 0, 3]])"
      ]
     },
     "execution_count": 31,
     "metadata": {},
     "output_type": "execute_result"
    }
   ],
   "source": [
    "arr7 = np.diag([1,2,3])\n",
    "arr7"
   ]
  },
  {
   "cell_type": "code",
   "execution_count": 2,
   "id": "508ca1e9",
   "metadata": {},
   "outputs": [
    {
     "data": {
      "text/plain": [
       "array([[ 2,  0,  0,  0,  0],\n",
       "       [ 0,  4,  0,  0,  0],\n",
       "       [ 0,  0,  6,  0,  0],\n",
       "       [ 0,  0,  0,  8,  0],\n",
       "       [ 0,  0,  0,  0, 10]])"
      ]
     },
     "execution_count": 2,
     "metadata": {},
     "output_type": "execute_result"
    }
   ],
   "source": [
    "import numpy as np\n",
    "a = np.diag([1,2,3,4,5])\n",
    "b = np.diag([1,2,3,4,5])\n",
    "c = a+b\n",
    "c"
   ]
  },
  {
   "cell_type": "code",
   "execution_count": 6,
   "id": "12a7d671",
   "metadata": {},
   "outputs": [
    {
     "data": {
      "text/plain": [
       "array([10.        , 11.11111111, 12.22222222, 13.33333333, 14.44444444,\n",
       "       15.55555556, 16.66666667, 17.77777778, 18.88888889, 20.        ])"
      ]
     },
     "execution_count": 6,
     "metadata": {},
     "output_type": "execute_result"
    }
   ],
   "source": [
    "x = np.linspace(10,20,10)\n",
    "x"
   ]
  },
  {
   "cell_type": "code",
   "execution_count": 7,
   "id": "07282c49",
   "metadata": {},
   "outputs": [
    {
     "data": {
      "text/plain": [
       "array([0.        , 0.02040816, 0.04081633, 0.06122449, 0.08163265,\n",
       "       0.10204082, 0.12244898, 0.14285714, 0.16326531, 0.18367347,\n",
       "       0.20408163, 0.2244898 , 0.24489796, 0.26530612, 0.28571429,\n",
       "       0.30612245, 0.32653061, 0.34693878, 0.36734694, 0.3877551 ,\n",
       "       0.40816327, 0.42857143, 0.44897959, 0.46938776, 0.48979592,\n",
       "       0.51020408, 0.53061224, 0.55102041, 0.57142857, 0.59183673,\n",
       "       0.6122449 , 0.63265306, 0.65306122, 0.67346939, 0.69387755,\n",
       "       0.71428571, 0.73469388, 0.75510204, 0.7755102 , 0.79591837,\n",
       "       0.81632653, 0.83673469, 0.85714286, 0.87755102, 0.89795918,\n",
       "       0.91836735, 0.93877551, 0.95918367, 0.97959184, 1.        ])"
      ]
     },
     "execution_count": 7,
     "metadata": {},
     "output_type": "execute_result"
    }
   ],
   "source": [
    "y = np.linspace(0,1)\n",
    "y"
   ]
  },
  {
   "cell_type": "code",
   "execution_count": 11,
   "id": "c535dc1c",
   "metadata": {},
   "outputs": [
    {
     "data": {
      "text/plain": [
       "array([0.70312878, 0.62528088, 0.37522088, 0.06366645, 0.31133015])"
      ]
     },
     "execution_count": 11,
     "metadata": {},
     "output_type": "execute_result"
    }
   ],
   "source": [
    "r  = np.random.rand(5)#it will display 0. repeatedly cause the probability of shoulnot be greater than 1 #Uniform Distribution\n",
    "r"
   ]
  },
  {
   "cell_type": "code",
   "execution_count": 12,
   "id": "6290245f",
   "metadata": {},
   "outputs": [
    {
     "data": {
      "text/plain": [
       "array([ 1.7510198 ,  1.19620314,  1.13853881,  3.0316483 , -1.32813952])"
      ]
     },
     "execution_count": 12,
     "metadata": {},
     "output_type": "execute_result"
    }
   ],
   "source": [
    "r2 = np.random.randn(5) # Standard Distribution \n",
    "r2"
   ]
  },
  {
   "cell_type": "code",
   "execution_count": 16,
   "id": "97f0847f",
   "metadata": {},
   "outputs": [
    {
     "data": {
      "text/plain": [
       "array([11, 19, 13])"
      ]
     },
     "execution_count": 16,
     "metadata": {},
     "output_type": "execute_result"
    }
   ],
   "source": [
    "r3 = np.random.randint(10,20,3)\n",
    "r3"
   ]
  },
  {
   "cell_type": "code",
   "execution_count": 17,
   "id": "3d2928d0",
   "metadata": {},
   "outputs": [],
   "source": [
    "a1 = np.array([1,2,3,4])"
   ]
  },
  {
   "cell_type": "code",
   "execution_count": 19,
   "id": "3602d1f1",
   "metadata": {},
   "outputs": [
    {
     "name": "stdout",
     "output_type": "stream",
     "text": [
      "[1 2 3 4]\n"
     ]
    }
   ],
   "source": [
    "a2 = a1.copy()\n",
    "print(a2)"
   ]
  },
  {
   "cell_type": "code",
   "execution_count": 24,
   "id": "118f9f0b",
   "metadata": {},
   "outputs": [],
   "source": [
    "a2 = np.array([[5,6],[5,8]])"
   ]
  },
  {
   "cell_type": "code",
   "execution_count": 25,
   "id": "3eafeb7f",
   "metadata": {},
   "outputs": [
    {
     "data": {
      "text/plain": [
       "(2, 2)"
      ]
     },
     "execution_count": 25,
     "metadata": {},
     "output_type": "execute_result"
    }
   ],
   "source": [
    "a2.shape"
   ]
  },
  {
   "cell_type": "code",
   "execution_count": 26,
   "id": "7b54ff3b",
   "metadata": {},
   "outputs": [
    {
     "data": {
      "text/plain": [
       "4"
      ]
     },
     "execution_count": 26,
     "metadata": {},
     "output_type": "execute_result"
    }
   ],
   "source": [
    "a2.size"
   ]
  },
  {
   "cell_type": "code",
   "execution_count": 27,
   "id": "46223e54",
   "metadata": {},
   "outputs": [
    {
     "data": {
      "text/plain": [
       "dtype('int32')"
      ]
     },
     "execution_count": 27,
     "metadata": {},
     "output_type": "execute_result"
    }
   ],
   "source": [
    "a2.dtype"
   ]
  },
  {
   "cell_type": "code",
   "execution_count": 30,
   "id": "9e7d08e7",
   "metadata": {},
   "outputs": [
    {
     "name": "stdout",
     "output_type": "stream",
     "text": [
      "6\n"
     ]
    }
   ],
   "source": [
    "a = [[1,2,3],[3,5,6]]\n",
    "trace = 0 \n",
    "for i in range(len(a)):\n",
    "    for j in range(len(a)):\n",
    "        if i == j:\n",
    "            trace+=a[i][j]\n",
    "print(trace)"
   ]
  },
  {
   "cell_type": "code",
   "execution_count": 31,
   "id": "b7747c69",
   "metadata": {},
   "outputs": [
    {
     "data": {
      "text/plain": [
       "6"
      ]
     },
     "execution_count": 31,
     "metadata": {},
     "output_type": "execute_result"
    }
   ],
   "source": [
    "p = np.array([[1,2,3],[3,5,6]])\n",
    "np.trace(p)"
   ]
  },
  {
   "cell_type": "code",
   "execution_count": 32,
   "id": "300d049d",
   "metadata": {},
   "outputs": [
    {
     "name": "stdout",
     "output_type": "stream",
     "text": [
      "[[1 3]\n",
      " [2 4]]\n"
     ]
    }
   ],
   "source": [
    "# Transpose of a matrix using the numoy \n",
    "B = np.array([[1, 2], \n",
    "              [3, 4]])\n",
    "\n",
    "B_transpose = B.T\n",
    "print(B_transpose)\n"
   ]
  },
  {
   "cell_type": "code",
   "execution_count": 34,
   "id": "8e89fad1",
   "metadata": {},
   "outputs": [
    {
     "name": "stdout",
     "output_type": "stream",
     "text": [
      "Original Matrix:\n",
      "[1, 2, 3]\n",
      "[4, 5, 6]\n",
      "\n",
      "Transposed Matrix:\n",
      "[1, 4]\n",
      "[2, 5]\n",
      "[3, 6]\n"
     ]
    }
   ],
   "source": [
    "# Function to transpose a matrix\n",
    "def transpose_matrix(matrix):\n",
    "    rows = len(matrix)\n",
    "    cols = len(matrix[0])\n",
    "    \n",
    "    # Create an empty matrix with swapped dimensions\n",
    "    transpose = [[0] * rows for _ in range(cols)]\n",
    "    \n",
    "    # Swap rows and columns\n",
    "    for i in range(rows):\n",
    "        for j in range(cols):\n",
    "            transpose[j][i] = matrix[i][j]\n",
    "    \n",
    "    return transpose\n",
    "\n",
    "# Example matrix\n",
    "A = [[1, 2, 3], \n",
    "     [4, 5, 6]]\n",
    "\n",
    "# Get transpose\n",
    "A_transpose = transpose_matrix(A)\n",
    "\n",
    "# Print result\n",
    "print(\"Original Matrix:\")\n",
    "for row in A:\n",
    "    print(row)\n",
    "\n",
    "print(\"\\nTransposed Matrix:\")\n",
    "for row in A_transpose:\n",
    "    print(row)\n"
   ]
  },
  {
   "cell_type": "code",
   "execution_count": 35,
   "id": "02c6149a",
   "metadata": {},
   "outputs": [
    {
     "name": "stdout",
     "output_type": "stream",
     "text": [
      "Original Matrix:\n",
      " [[4 7]\n",
      " [2 6]]\n",
      "\n",
      "Inverse Matrix:\n",
      " [[ 0.6 -0.7]\n",
      " [-0.2  0.4]]\n"
     ]
    }
   ],
   "source": [
    "import numpy as np\n",
    "\n",
    "# Define a square matrix\n",
    "A = np.array([[4, 7], \n",
    "              [2, 6]])\n",
    "\n",
    "# Compute the inverse\n",
    "A_inv = np.linalg.inv(A)\n",
    "\n",
    "print(\"Original Matrix:\\n\", A)\n",
    "print(\"\\nInverse Matrix:\\n\", A_inv)\n"
   ]
  },
  {
   "cell_type": "code",
   "execution_count": 36,
   "id": "c2e3a9c8",
   "metadata": {},
   "outputs": [
    {
     "name": "stdout",
     "output_type": "stream",
     "text": [
      "30 is present in the array.\n"
     ]
    }
   ],
   "source": [
    "import numpy as np\n",
    "\n",
    "arr = np.array([10, 20, 30, 40, 50])\n",
    "\n",
    "if 30 in arr:\n",
    "    print(\"30 is present in the array.\")\n"
   ]
  },
  {
   "cell_type": "code",
   "execution_count": 38,
   "id": "6bb6125c",
   "metadata": {},
   "outputs": [
    {
     "name": "stdout",
     "output_type": "stream",
     "text": [
      "50 is present in the array.\n"
     ]
    }
   ],
   "source": [
    "arr = [[10, 20, 30], \n",
    "       [40, 50, 60], \n",
    "       [70, 80, 90]]\n",
    "\n",
    "item = 50\n",
    "found = False\n",
    "\n",
    "for i in arr:\n",
    "    for j in arr:\n",
    "        if i == j:\n",
    "            found = True\n",
    "            break\n",
    "    if found:\n",
    "        break\n",
    "\n",
    "if found:\n",
    "    print(f\"{item} is present in the array.\")\n",
    "else:\n",
    "    print(f\"{item} is not present in the array.\")\n"
   ]
  },
  {
   "cell_type": "code",
   "execution_count": 40,
   "id": "291e83f0",
   "metadata": {},
   "outputs": [
    {
     "data": {
      "text/plain": [
       "array([2, 4, 6])"
      ]
     },
     "execution_count": 40,
     "metadata": {},
     "output_type": "execute_result"
    }
   ],
   "source": [
    "a = np.array([1,2,3])\n",
    "a*2"
   ]
  },
  {
   "cell_type": "code",
   "execution_count": 41,
   "id": "c16a30ad",
   "metadata": {},
   "outputs": [
    {
     "data": {
      "text/plain": [
       "array([3, 4, 5])"
      ]
     },
     "execution_count": 41,
     "metadata": {},
     "output_type": "execute_result"
    }
   ],
   "source": [
    "a+2"
   ]
  },
  {
   "cell_type": "code",
   "execution_count": 42,
   "id": "e0920b1a",
   "metadata": {},
   "outputs": [
    {
     "data": {
      "text/plain": [
       "array([1, 4, 9])"
      ]
     },
     "execution_count": 42,
     "metadata": {},
     "output_type": "execute_result"
    }
   ],
   "source": [
    "a**2"
   ]
  },
  {
   "cell_type": "code",
   "execution_count": null,
   "id": "5c42f22d",
   "metadata": {},
   "outputs": [],
   "source": []
  }
 ],
 "metadata": {
  "kernelspec": {
   "display_name": "Python 3 (ipykernel)",
   "language": "python",
   "name": "python3"
  },
  "language_info": {
   "codemirror_mode": {
    "name": "ipython",
    "version": 3
   },
   "file_extension": ".py",
   "mimetype": "text/x-python",
   "name": "python",
   "nbconvert_exporter": "python",
   "pygments_lexer": "ipython3",
   "version": "3.11.3"
  }
 },
 "nbformat": 4,
 "nbformat_minor": 5
}
