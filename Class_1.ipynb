{
 "cells": [
  {
   "cell_type": "markdown",
   "id": "c8f62d87",
   "metadata": {},
   "source": [
    "# Introduction (Python)"
   ]
  },
  {
   "cell_type": "code",
   "execution_count": 3,
   "id": "3a0a80fe",
   "metadata": {},
   "outputs": [
    {
     "name": "stdout",
     "output_type": "stream",
     "text": [
      "Hello\n"
     ]
    }
   ],
   "source": [
    "print(\"Hello\")"
   ]
  },
  {
   "cell_type": "code",
   "execution_count": 4,
   "id": "355fa1f8",
   "metadata": {},
   "outputs": [
    {
     "name": "stdout",
     "output_type": "stream",
     "text": [
      "Enter the Length12\n",
      "Enter the breadth5\n",
      "Perimeter of Traingle: 34\n"
     ]
    }
   ],
   "source": [
    "#Perimeter of the Rectangle\n",
    "length = int(input(\"Enter the Length\"))\n",
    "breadth = int(input(\"Enter the breadth\"))\n",
    "Perimeter = 2*(length + breadth)\n",
    "print(\"Perimeter of Rectangle:\",Perimeter)"
   ]
  },
  {
   "cell_type": "code",
   "execution_count": 5,
   "id": "9970dc7d",
   "metadata": {},
   "outputs": [
    {
     "name": "stdout",
     "output_type": "stream",
     "text": [
      "Enter one side a=1\n",
      "Enter one side b=2\n",
      "Enter one side h=5\n",
      "Area of Trapezoid= 10.0\n"
     ]
    }
   ],
   "source": [
    "#Area of Trapezoid (Formula : (a+b/2)* h)\n",
    "a = int(input(\"Enter one side a=\"))\n",
    "b = int(input(\"Enter second side b=\"))\n",
    "h = int(input(\"Enter height h=\"))\n",
    "Area = (a+b/2) * h\n",
    "print(\"Area of Trapezoid=\",Area)"
   ]
  },
  {
   "cell_type": "code",
   "execution_count": null,
   "id": "39301090",
   "metadata": {},
   "outputs": [],
   "source": [
    "#Concept of  Shift Operator (<<,>>)\n"
   ]
  },
  {
   "cell_type": "markdown",
   "id": "5cc4ae2c",
   "metadata": {},
   "source": [
    "## Control Structure_1"
   ]
  },
  {
   "cell_type": "code",
   "execution_count": 13,
   "id": "b7915e45",
   "metadata": {},
   "outputs": [
    {
     "name": "stdout",
     "output_type": "stream",
     "text": [
      "Enter a Number13\n",
      "Num is Odd\n"
     ]
    }
   ],
   "source": [
    "#If Statement \n",
    "num = int(input(\"Enter a Number\"))\n",
    "if num%2 == 0: \n",
    "    print(\"Num is even\")\n",
    "if num%2!= 0:\n",
    "    print(\"Num is Odd\")"
   ]
  },
  {
   "cell_type": "code",
   "execution_count": 16,
   "id": "29eef4d0",
   "metadata": {},
   "outputs": [
    {
     "name": "stdout",
     "output_type": "stream",
     "text": [
      "Enter a Number3\n",
      "Num is Odd\n"
     ]
    }
   ],
   "source": [
    "#if else Statement \n",
    "num = int(input(\"Enter a Number\"))\n",
    "if num%2 == 0: \n",
    "    print(\"Num is even\")\n",
    "else:\n",
    "    print(\"Num is Odd\")\n"
   ]
  },
  {
   "cell_type": "code",
   "execution_count": 19,
   "id": "f8f1f4a6",
   "metadata": {},
   "outputs": [
    {
     "name": "stdout",
     "output_type": "stream",
     "text": [
      "Enter a Number12\n",
      "Num1 is Even\n"
     ]
    }
   ],
   "source": [
    "#Check the number even or odd using Bitwise Operator\n",
    "num1 = int(input(\"Enter a Number\"))\n",
    "if num1 & 1==0:\n",
    "    print(\"Num1 is Even\")\n",
    "else:\n",
    "    print(\"Num1 is odd\")"
   ]
  },
  {
   "cell_type": "code",
   "execution_count": 18,
   "id": "1f6c0dd1",
   "metadata": {},
   "outputs": [
    {
     "name": "stdout",
     "output_type": "stream",
     "text": [
      "Enter 1st number10\n",
      "Enter 2nd Number12\n",
      "Num1 is lesser than Num2\n"
     ]
    }
   ],
   "source": [
    "#Check among 2 Numbers Which is Greater\n",
    "Num1 = int(input(\"Enter 1st number\"))\n",
    "Num2 = int(input(\"Enter 2nd Number\"))\n",
    "if Num1 > Num2:\n",
    "    print(\"Num1 is greater than Num2\")\n",
    "else :\n",
    "    print(\"Num1 is lesser than Num2\")"
   ]
  },
  {
   "cell_type": "code",
   "execution_count": 21,
   "id": "b3f6b3d2",
   "metadata": {},
   "outputs": [
    {
     "name": "stdout",
     "output_type": "stream",
     "text": [
      "Enter 1st number10\n",
      "Enter 2nd Number3\n",
      "Enter 3rd Number65\n",
      "C is greater\n"
     ]
    }
   ],
   "source": [
    "#To Check the Number among 3 numbers which is greater using \"and\" Operator\n",
    "a = int(input(\"Enter 1st number\"))\n",
    "b = int(input(\"Enter 2nd Number\"))\n",
    "c = int(input(\"Enter 3rd Number\"))\n",
    "if (a>b) and (a>c):\n",
    "    print(\" a is Greater\")\n",
    "if (b>a) and (b>c):\n",
    "    print(\"b is greater\")\n",
    "else:\n",
    "    print(\"C is greater\")"
   ]
  },
  {
   "cell_type": "code",
   "execution_count": 23,
   "id": "6a1adc11",
   "metadata": {},
   "outputs": [
    {
     "name": "stdout",
     "output_type": "stream",
     "text": [
      "Enter the radius of the circle: 10\n",
      "Enter the coordinates of the point (x y): 1 2\n",
      "The point lies inside the circle.\n"
     ]
    }
   ],
   "source": [
    "#Define that the point given by the user is inside the circle or outside the circle \n",
    "radius = float(input(\"Enter the radius of the circle: \"))\n",
    "\n",
    "point_x, point_y = map(float, input(\"Enter the coordinates of the point (x y): \").split())\n",
    "\n",
    "# Calculate the square of the distance between the point and the origin\n",
    "distance_squared = point_x ** 2 + point_y ** 2\n",
    "radius_squared = radius ** 2\n",
    "\n",
    "# Check the position of the point in the circle\n",
    "if distance_squared < radius_squared:\n",
    "    print(\"The point lies inside the circle.\")\n",
    "elif distance_squared == radius_squared:\n",
    "    print(\"The point lies on the circumference of the circle.\")\n",
    "elif distance_squared == 0:\n",
    "    print(\"The point is at the center of the circle.\")\n",
    "else:\n",
    "    print(\"The point lies outside the circle.\")\n"
   ]
  },
  {
   "cell_type": "code",
   "execution_count": 4,
   "id": "40f07f38",
   "metadata": {},
   "outputs": [
    {
     "name": "stdout",
     "output_type": "stream",
     "text": [
      "Enter the radius of the circle: 12\n",
      "Enter the x co ordinate  of the circle: 5\n",
      "Enter the y co ordinate  of the circle: 7\n",
      "The Point is outside\n"
     ]
    }
   ],
   "source": [
    "#write a program to check the point of circle is outside / Inside of the circle in another method\n",
    "radius = float(input(\"Enter the radius of the circle: \"))\n",
    "x1 = int(input(\"Enter the x co ordinate  of the circle: \"))\n",
    "y1 = int(input(\"Enter the y co ordinate  of the circle: \"))\n",
    "d = ((((0-y1)**2)+((0-x1)**2))**0.5)\n",
    "if d > radius:\n",
    "    print(\"The Points is inside the circle\")\n",
    "else:\n",
    "    print(\"The Point is outside\")"
   ]
  },
  {
   "cell_type": "code",
   "execution_count": 25,
   "id": "6084d8ba",
   "metadata": {},
   "outputs": [
    {
     "name": "stdout",
     "output_type": "stream",
     "text": [
      "Enter 1st Number1\n",
      "Enter 2nd Number2\n",
      "2 1\n"
     ]
    }
   ],
   "source": [
    "#Swap  2 Numbers using another number\n",
    "a = int(input(\"Enter 1st Number\"))\n",
    "b = int(input(\"Enter 2nd Number\"))\n",
    "c = b\n",
    "b = a\n",
    "a = c\n",
    "print(a,b)"
   ]
  },
  {
   "cell_type": "code",
   "execution_count": 26,
   "id": "88723f1f",
   "metadata": {},
   "outputs": [
    {
     "name": "stdout",
     "output_type": "stream",
     "text": [
      "Enter 1st Number2\n",
      "Enter 2nd Number3\n",
      "Swapped Numbers are 3 2\n"
     ]
    }
   ],
   "source": [
    "#Swap 2 Number using XOR(^) Operator\n",
    "a = int(input(\"Enter 1st Number\"))\n",
    "b = int(input(\"Enter 2nd Number\"))\n",
    "a = a^b\n",
    "b = a^b\n",
    "a = a^b\n",
    "print(\"Swapped Numbers are\",a,b)"
   ]
  },
  {
   "cell_type": "code",
   "execution_count": 28,
   "id": "b8ec587c",
   "metadata": {},
   "outputs": [
    {
     "name": "stdout",
     "output_type": "stream",
     "text": [
      "10.0 5.0\n"
     ]
    }
   ],
   "source": [
    "# Initial values\n",
    "a = 5\n",
    "b = 10\n",
    "\n",
    "# Swap using multiplication and division\n",
    "a = a * b  # a becomes 50\n",
    "b = a / b  # b becomes 5 (50 / 10)\n",
    "a = a / b  # a becomes 10 (50 / 5)\n",
    "\n",
    "print(a,b)\n"
   ]
  },
  {
   "cell_type": "code",
   "execution_count": 29,
   "id": "6aeb3f90",
   "metadata": {},
   "outputs": [
    {
     "name": "stdout",
     "output_type": "stream",
     "text": [
      "a = 10 b = 5\n"
     ]
    }
   ],
   "source": [
    "# Initial values\n",
    "a = 5\n",
    "b = 10\n",
    "\n",
    "# Swap using tuple unpacking\n",
    "a, b = b, a\n",
    "\n",
    "print(\"a =\", a, \"b =\", b)  \n"
   ]
  },
  {
   "cell_type": "code",
   "execution_count": 30,
   "id": "e295b3b5",
   "metadata": {},
   "outputs": [
    {
     "name": "stdout",
     "output_type": "stream",
     "text": [
      "a = 10 b = 5\n"
     ]
    }
   ],
   "source": [
    "# Initial values\n",
    "a = 5\n",
    "b = 10\n",
    "# Swap using addition and subtraction\n",
    "a = a + b  # a becomes 15\n",
    "b = a - b  # b becomes 5 (15 - 10)\n",
    "a = a - b  # a becomes 10 (15 - 5)\n",
    "\n",
    "print(\"a =\", a, \"b =\", b) \n"
   ]
  },
  {
   "cell_type": "code",
   "execution_count": 39,
   "id": "800caa22",
   "metadata": {},
   "outputs": [
    {
     "name": "stdout",
     "output_type": "stream",
     "text": [
      "Enter any Number0\n"
     ]
    }
   ],
   "source": [
    "a = int(input(\"Enter any Number\"))\n",
    "if a > 0:\n",
    "    print(\"Positive\")\n",
    "if a < 0:\n",
    "    print(\"Negative\")\n",
    "if a == 0:\n",
    "    print(\"it is Zero\")"
   ]
  },
  {
   "cell_type": "code",
   "execution_count": 35,
   "id": "0d904bc7",
   "metadata": {},
   "outputs": [
    {
     "name": "stdout",
     "output_type": "stream",
     "text": [
      "Enter the age of person18\n",
      "You are elgible\n"
     ]
    }
   ],
   "source": [
    "age = int(input(\"Enter the age of person\"))\n",
    "if age >=18:\n",
    "    print (\"You are elgible\")\n",
    "else:\n",
    "    print (\"You are not elgible\")"
   ]
  },
  {
   "cell_type": "markdown",
   "id": "97558b0b",
   "metadata": {},
   "source": [
    "## If__Elif Condition"
   ]
  },
  {
   "cell_type": "raw",
   "id": "46d45b6c",
   "metadata": {},
   "source": [
    "syntax:\n",
    "if condtion1:\n",
    "    statement1\n",
    "elif condtion2:\n",
    "    statement\n",
    "elif condition 3:\n",
    "    Statement \n",
    "else: \n",
    "    Statement"
   ]
  },
  {
   "cell_type": "code",
   "execution_count": 1,
   "id": "9eb97ad7",
   "metadata": {},
   "outputs": [
    {
     "name": "stdout",
     "output_type": "stream",
     "text": [
      "Enter any Number12\n",
      "Positive\n"
     ]
    }
   ],
   "source": [
    "#Example \n",
    "a = int(input(\"Enter any Number\"))\n",
    "if a > 0:\n",
    "    print(\"Positive\")\n",
    "elif a < 0:\n",
    "    print(\"Negative\")\n",
    "else:\n",
    "    print(\"it is Zero or Neu\")"
   ]
  },
  {
   "cell_type": "code",
   "execution_count": 2,
   "id": "343019e5",
   "metadata": {},
   "outputs": [
    {
     "name": "stdout",
     "output_type": "stream",
     "text": [
      "Enter First Number1\n",
      "Enter Second Number2\n",
      "Enter Third Number3\n",
      "Enter Fourth Number4\n",
      "d is greater\n"
     ]
    }
   ],
   "source": [
    "#4 variable number comparision\n",
    "a =  int(input(\"Enter First Number\"))\n",
    "b =  int(input(\"Enter Second Number\"))\n",
    "c =  int(input(\"Enter Third Number\"))\n",
    "d =  int(input(\"Enter Fourth Number\"))\n",
    "if (a>b) and (a>c) and (a>d):\n",
    "    print(\"a is greater\")\n",
    "elif(b>a) and (b>c) and (b>d):\n",
    "    print(\"b is greater\")\n",
    "elif(c>a) and (c>b) and (c>d):\n",
    "    print(\"c is greater\")\n",
    "else:\n",
    "    print(\"d is greater\")"
   ]
  },
  {
   "cell_type": "code",
   "execution_count": null,
   "id": "77179508",
   "metadata": {},
   "outputs": [],
   "source": [
    "#WAP to calculate the salary of a medical represtative considering the sales bonus and incentive offer\n",
    "#to him are based on the total sales if the sales exceed or equal to 1lakh follow the particular number 1\n",
    "def calculate_salary():\n",
    "    basic = float(input(\"Enter the basic salary: ₹\"))\n",
    "    sales = float(input(\"Enter the total sales: ₹\"))\n",
    "     # Fixed values\n",
    "    conveyance = 500\n",
    "    hra = 0\n",
    "    da = 1.10 * basic  # DA = 110% of basic\n",
    "    incentive = 0\n",
    "    bonus = 0"
   ]
  },
  {
   "cell_type": "code",
   "execution_count": 4,
   "id": "08df183e",
   "metadata": {},
   "outputs": [
    {
     "name": "stdout",
     "output_type": "stream",
     "text": [
      "Enter the total sales:2000000\n",
      "the salary: 210200.0\n"
     ]
    }
   ],
   "source": [
    "basic_salary = 4000\n",
    "sales = float(input(\"Enter the total sales:\"))\n",
    "if sales >=100000:\n",
    "    hra = 0.2*4000\n",
    "    da=1.1*4000\n",
    "    con =500\n",
    "    incentive = 0.1*sales\n",
    "    bonus = 500\n",
    "    total_salary = basic_salary+hra+da+con+incentive+bonus\n",
    "else:\n",
    "    hra = 0.2*4000\n",
    "    da=1.1*4000\n",
    "    con =500\n",
    "    incentive = 0.4*sales\n",
    "    bonus = 500\n",
    "    total_salary = basic_salary+hra+da+con+incentive+bonus\n",
    "print(\"the salary:\",total_salary)"
   ]
  },
  {
   "cell_type": "code",
   "execution_count": 8,
   "id": "c5e1ddb2",
   "metadata": {},
   "outputs": [
    {
     "name": "stdout",
     "output_type": "stream",
     "text": [
      "Enter the age of the person: 18\n",
      "The Person adult but not elgible\n"
     ]
    }
   ],
   "source": [
    "age = int(input(\"Enter the age of the person: \"))\n",
    "if age >= 21:\n",
    "    print(\"The person is eligible to drink alcohol.\")\n",
    "elif age >=18:\n",
    "    print(\"The Person adult but not elgible\")\n",
    "else:\n",
    "    print(\"The person is NOT eligible to drink alcohol.\")\n"
   ]
  },
  {
   "cell_type": "code",
   "execution_count": 13,
   "id": "ceeb5123",
   "metadata": {},
   "outputs": [
    {
     "name": "stdout",
     "output_type": "stream",
     "text": [
      "Enter the Marks of Math:10\n",
      "Enter the Marks of Science:44\n",
      "Eneter the Marks of Odia:65\n",
      "Enter the marks of English:34\n",
      "Enter the Marks of Social Science:22\n",
      "The Percentage obtianed by Student: 35.0\n",
      "Student is failed\n"
     ]
    }
   ],
   "source": [
    "#Assigning Grade\n",
    "math = int(input(\"Enter the Marks of Math:\"))\n",
    "science=int(input(\"Enter the Marks of Science:\"))\n",
    "odia=int(input(\"Eneter the Marks of Odia:\"))\n",
    "english=int(input(\"Enter the marks of English:\"))\n",
    "social=int(input(\"Enter the Marks of Social Science:\"))\n",
    "full_marks = 500\n",
    "total_marks=math+science+odia+english+social\n",
    "percentage = (total_marks/full_marks)*100\n",
    "print(\"The Percentage obtianed by Student:\",percentage)\n",
    "#grade according the total marks \n",
    "if percentage>=90:\n",
    "    print(\"A+ Grade\")\n",
    "elif percentage>=85:\n",
    "    print(\"A Grade\")\n",
    "elif percentage>=75:\n",
    "    print(\"B Grade\")\n",
    "elif percentage>=60:\n",
    "    print(\"C Grade\")\n",
    "elif percentage>=50:\n",
    "    print(\"just Pass\")\n",
    "else:\n",
    "    print(\"Student is failed\")\n",
    "    "
   ]
  },
  {
   "cell_type": "markdown",
   "id": "3ff59d87",
   "metadata": {},
   "source": [
    "##Nested_IF"
   ]
  },
  {
   "cell_type": "raw",
   "id": "ee40fa87",
   "metadata": {},
   "source": [
    "IF Statement inside the if Statement then it will be define as Nested if\n",
    "syntax: \n",
    "if conditon:\n",
    "    if condition:\n",
    "        Statement1\n",
    "        statement2\n",
    "    stm 3\n",
    "    stm 4"
   ]
  },
  {
   "cell_type": "code",
   "execution_count": 17,
   "id": "dcbaa097",
   "metadata": {},
   "outputs": [
    {
     "name": "stdout",
     "output_type": "stream",
     "text": [
      "Enter a Number: -15\n",
      "The number is divisible by 5 but not by 10.\n"
     ]
    }
   ],
   "source": [
    "num = int(input(\"Enter a Number: \"))\n",
    "\n",
    "if num % 5 == 0:  # Check divisibility by 5\n",
    "    if num % 10 == 0:  # Check divisibility by 10\n",
    "        print(\"The number is divisible by both 5 and 10.\")\n",
    "    else:\n",
    "        print(\"The number is divisible by 5 but not by 10.\")\n",
    "else:\n",
    "    print(\"The number is not divisible by 5.\")\n"
   ]
  },
  {
   "cell_type": "code",
   "execution_count": null,
   "id": "e48fa10a",
   "metadata": {},
   "outputs": [],
   "source": []
  },
  {
   "cell_type": "code",
   "execution_count": null,
   "id": "d2e1c1d8",
   "metadata": {},
   "outputs": [],
   "source": []
  }
 ],
 "metadata": {
  "kernelspec": {
   "display_name": "Python 3 (ipykernel)",
   "language": "python",
   "name": "python3"
  },
  "language_info": {
   "codemirror_mode": {
    "name": "ipython",
    "version": 3
   },
   "file_extension": ".py",
   "mimetype": "text/x-python",
   "name": "python",
   "nbconvert_exporter": "python",
   "pygments_lexer": "ipython3",
   "version": "3.11.3"
  }
 },
 "nbformat": 4,
 "nbformat_minor": 5
}
