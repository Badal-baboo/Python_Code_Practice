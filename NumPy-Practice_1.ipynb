{
 "cells": [
  {
   "cell_type": "markdown",
   "id": "79081983",
   "metadata": {},
   "source": [
    "##### Q1. Write a NumPy program to convert Centigrade degrees into Fahrenheit degrees. Centigrade values are stored in a NumPy array.\n"
   ]
  },
  {
   "cell_type": "code",
   "execution_count": 5,
   "id": "15661906",
   "metadata": {},
   "outputs": [
    {
     "name": "stdout",
     "output_type": "stream",
     "text": [
      "Fahrenhite:  [ 91.4    89.6    96.8    82.4    95.9    32.    113.612]\n"
     ]
    }
   ],
   "source": [
    "import numpy as np \n",
    "\n",
    "celsius = np.array([33,32,36,28,35.5,0,45.34])\n",
    "\n",
    "fahrenhite = (celsius * 9/5)+32\n",
    "\n",
    "print(\"Fahrenhite: \",fahrenhite)"
   ]
  },
  {
   "cell_type": "markdown",
   "id": "6daa2e34",
   "metadata": {},
   "source": [
    "###### Write a NumPy program to find the number of elements in an array. It also finds the length of one array element in bytes and the total bytes consumed by the elements."
   ]
  },
  {
   "cell_type": "code",
   "execution_count": 5,
   "id": "3093c9f7",
   "metadata": {},
   "outputs": [
    {
     "name": "stdout",
     "output_type": "stream",
     "text": [
      "Size of array 3\n",
      "Element in array:  10\n",
      "Element in array:  20\n",
      "Element in array:  30\n",
      "Total bytes consumed by array: 24\n"
     ]
    }
   ],
   "source": [
    "import numpy as np\n",
    "arr1 = np.array([10,20,30])\n",
    "print(\"Size of array\",len(arr1))\n",
    "for i in arr1:\n",
    "    print(\"Element in array: \",i)\n",
    "if len(arr1)>0:\n",
    "    print(\"Total bytes consumed by array:\",len(arr1) * 8)\n"
   ]
  },
  {
   "cell_type": "markdown",
   "id": "918ec584",
   "metadata": {},
   "source": [
    "##### Write a NumPy program to test whether each element of a 1-D array is also present in a second array."
   ]
  },
  {
   "cell_type": "code",
   "execution_count": 30,
   "id": "c8fb85df",
   "metadata": {},
   "outputs": [
    {
     "data": {
      "text/plain": [
       "array([ True,  True, False, False, False])"
      ]
     },
     "execution_count": 30,
     "metadata": {},
     "output_type": "execute_result"
    }
   ],
   "source": [
    "import numpy as np\n",
    "a1 = np.array([12,11,14,1,2])\n",
    "a2 = np.array([1,2,3,4,5])\n",
    "result = np.array([ele in a1 for ele in a2])\n",
    "result"
   ]
  },
  {
   "cell_type": "code",
   "execution_count": 32,
   "id": "dd0642c7",
   "metadata": {},
   "outputs": [
    {
     "data": {
      "text/plain": [
       "array([False, False, False,  True,  True])"
      ]
     },
     "execution_count": 32,
     "metadata": {},
     "output_type": "execute_result"
    }
   ],
   "source": [
    "result1 = np.isin(a1,a2)\n",
    "result1"
   ]
  },
  {
   "cell_type": "markdown",
   "id": "33926c52",
   "metadata": {},
   "source": [
    "##### Write a NumPy program to find common values between two arrays."
   ]
  },
  {
   "cell_type": "code",
   "execution_count": 41,
   "id": "5fae055b",
   "metadata": {},
   "outputs": [
    {
     "name": "stdout",
     "output_type": "stream",
     "text": [
      "[12 11]\n"
     ]
    }
   ],
   "source": [
    "import numpy as np \n",
    "\n",
    "b1 = np.array([23,12,11,14])\n",
    "b2 = np.array([10,11,12,13])\n",
    "\n",
    "common = []\n",
    "\n",
    "for i in b1: \n",
    "    for j in b2:\n",
    "        if i==j: \n",
    "            common.append(i)\n",
    "\n",
    "common = np.array(common)            \n",
    "print(common)\n",
    "        "
   ]
  },
  {
   "cell_type": "code",
   "execution_count": 42,
   "id": "ea0a74ec",
   "metadata": {},
   "outputs": [
    {
     "data": {
      "text/plain": [
       "numpy.ndarray"
      ]
     },
     "execution_count": 42,
     "metadata": {},
     "output_type": "execute_result"
    }
   ],
   "source": [
    "type(common)"
   ]
  },
  {
   "cell_type": "markdown",
   "id": "62d752c1",
   "metadata": {},
   "source": [
    "#####  Write a NumPy program to get the unique elements of an array"
   ]
  },
  {
   "cell_type": "code",
   "execution_count": 28,
   "id": "4ddc4572",
   "metadata": {},
   "outputs": [
    {
     "name": "stdout",
     "output_type": "stream",
     "text": [
      "[1 2 3 4 5 6]\n"
     ]
    }
   ],
   "source": [
    "import numpy as np \n",
    "\n",
    "arr1 = np.array([1,2,2,2,1,3,4,4,5,6])\n",
    "\n",
    "unique = []\n",
    "\n",
    "for i in arr1:\n",
    "    if i not in unique:\n",
    "        unique.append(i)\n",
    "unique = np.array(unique)\n",
    "\n",
    "print(unique)"
   ]
  },
  {
   "cell_type": "code",
   "execution_count": 29,
   "id": "b5595d3c",
   "metadata": {},
   "outputs": [
    {
     "name": "stdout",
     "output_type": "stream",
     "text": [
      "[3 5 6]\n"
     ]
    }
   ],
   "source": [
    "arr1_list = list(arr1)\n",
    "unique = []\n",
    "\n",
    "for i in arr1:\n",
    "    if arr1_list.count(i)==1:\n",
    "        unique.append(i)\n",
    "        \n",
    "non_repeat = np.array(unique)\n",
    "print(non_repeat)"
   ]
  },
  {
   "cell_type": "code",
   "execution_count": 11,
   "id": "21686b10",
   "metadata": {},
   "outputs": [
    {
     "data": {
      "text/plain": [
       "4"
      ]
     },
     "execution_count": 11,
     "metadata": {},
     "output_type": "execute_result"
    }
   ],
   "source": [
    "import numpy as np\n",
    "arr1 = np.array([10,20,30])\n",
    "size_of_array = arr1.itemsize\n",
    "size_of_array\n"
   ]
  },
  {
   "cell_type": "code",
   "execution_count": 12,
   "id": "961b5435",
   "metadata": {},
   "outputs": [
    {
     "data": {
      "text/plain": [
       "12"
      ]
     },
     "execution_count": 12,
     "metadata": {},
     "output_type": "execute_result"
    }
   ],
   "source": [
    "bytes_array = arr1.nbytes\n",
    "bytes_array"
   ]
  },
  {
   "cell_type": "code",
   "execution_count": 13,
   "id": "a29eab83",
   "metadata": {},
   "outputs": [
    {
     "data": {
      "text/plain": [
       "3"
      ]
     },
     "execution_count": 13,
     "metadata": {},
     "output_type": "execute_result"
    }
   ],
   "source": [
    "size = arr1.size\n",
    "size"
   ]
  },
  {
   "cell_type": "code",
   "execution_count": 60,
   "id": "b4d1fe1f",
   "metadata": {},
   "outputs": [
    {
     "name": "stdout",
     "output_type": "stream",
     "text": [
      "[2 3]\n"
     ]
    }
   ],
   "source": [
    "import numpy as np \n",
    "\n",
    "d2= np.array([[1,1],[2,3]])\n",
    "\n",
    "flattened = []\n",
    "\n",
    "for i in d2:\n",
    "    for j in i:\n",
    "        flattened.append(j)\n",
    "#(flattened)\n",
    "        \n",
    "unique=[]\n",
    "for i  in flattened:\n",
    "    count = 0 \n",
    "    for j in flattened:\n",
    "        if i==j:\n",
    "            count+=1\n",
    "    if count == 1:\n",
    "        unique.append(i)\n",
    "\n",
    "non_repeat = np.array(unique)\n",
    "print(non_repeat)\n"
   ]
  },
  {
   "cell_type": "markdown",
   "id": "abab47b0",
   "metadata": {},
   "source": [
    "###### Write a NumPy program to construct an array by repeating"
   ]
  },
  {
   "cell_type": "code",
   "execution_count": 6,
   "id": "64cc137c",
   "metadata": {},
   "outputs": [
    {
     "name": "stdout",
     "output_type": "stream",
     "text": [
      "[1, 1, 1, 2, 2, 2, 3, 3, 3]\n"
     ]
    }
   ],
   "source": [
    "import numpy as np \n",
    "\n",
    "a1 = np.array([1,2,3])\n",
    "\n",
    "l1= []\n",
    "\n",
    "for i in a1:\n",
    "    for j in range(len(a1)):\n",
    "        l1.append(i)\n",
    "print(l1)"
   ]
  },
  {
   "cell_type": "code",
   "execution_count": 7,
   "id": "7c22118e",
   "metadata": {},
   "outputs": [
    {
     "name": "stdout",
     "output_type": "stream",
     "text": [
      "Original array:\n",
      "[[4 6]\n",
      " [2 1]]\n",
      "\n",
      "Sort along the first axis:\n",
      "[[2 1]\n",
      " [4 6]]\n",
      "\n",
      "Sort along the last axis:\n",
      "[[4 6]\n",
      " [1 2]]\n"
     ]
    }
   ],
   "source": [
    "import numpy as np\n",
    "\n",
    "arr = np.array([[4, 6], \n",
    "                [2, 1]])\n",
    "\n",
    "print(\"Original array:\")\n",
    "print(arr)\n",
    "\n",
    "# Sorting  (rows - vertically)\n",
    "sorted_first_axis = np.sort(arr, axis=0)\n",
    "print(\"\\nSort along the first axis:\")\n",
    "print(sorted_first_axis)\n",
    "\n",
    "# Sorting  (columns - horizontally)\n",
    "sorted_last_axis = np.sort(arr, axis=1)\n",
    "print(\"\\nSort along the last axis:\")\n",
    "print(sorted_last_axis)\n"
   ]
  },
  {
   "cell_type": "code",
   "execution_count": null,
   "id": "f7640e3d",
   "metadata": {},
   "outputs": [],
   "source": []
  }
 ],
 "metadata": {
  "kernelspec": {
   "display_name": "Python 3 (ipykernel)",
   "language": "python",
   "name": "python3"
  },
  "language_info": {
   "codemirror_mode": {
    "name": "ipython",
    "version": 3
   },
   "file_extension": ".py",
   "mimetype": "text/x-python",
   "name": "python",
   "nbconvert_exporter": "python",
   "pygments_lexer": "ipython3",
   "version": "3.11.3"
  }
 },
 "nbformat": 4,
 "nbformat_minor": 5
}
