{
 "cells": [
  {
   "cell_type": "code",
   "execution_count": 1,
   "id": "0bc27cb0",
   "metadata": {},
   "outputs": [],
   "source": [
    "#np_equal_array(a,b) checking each element \n",
    "import numpy as np \n",
    "a = np.array([1,2,3])\n",
    "b = np.array([2,3,4])"
   ]
  },
  {
   "cell_type": "code",
   "execution_count": 4,
   "id": "8b9384fd",
   "metadata": {},
   "outputs": [
    {
     "data": {
      "text/plain": [
       "False"
      ]
     },
     "execution_count": 4,
     "metadata": {},
     "output_type": "execute_result"
    }
   ],
   "source": [
    "np.array_equal(a,b)"
   ]
  },
  {
   "cell_type": "markdown",
   "id": "b8a4cbf5",
   "metadata": {},
   "source": [
    "### sorting in arrray \n",
    "* np.sort():it will sort in ascending order\n",
    "    -it is not in-place sort\n",
    "    \n",
    "    numpy_array.sort():it will perform inplace sorting\n",
    "    \n",
    "    \n",
    "    np.argsort():\n",
    "    -it will perform the sorting on the basis of index of the numpy array\n",
    "    \n",
    "    \n"
   ]
  },
  {
   "cell_type": "markdown",
   "id": "0f8b8f31",
   "metadata": {},
   "source": [
    "### Searching in NumPy Array \n",
    "    - np.where(condition): it will return the index of the element where cond is true "
   ]
  },
  {
   "cell_type": "code",
   "execution_count": 5,
   "id": "e5e4890d",
   "metadata": {},
   "outputs": [
    {
     "data": {
      "text/plain": [
       "(array([0, 1, 2, 4], dtype=int64),)"
      ]
     },
     "execution_count": 5,
     "metadata": {},
     "output_type": "execute_result"
    }
   ],
   "source": [
    "a = np.array([3,4,5,1,7])\n",
    "np.where(a>2)"
   ]
  },
  {
   "cell_type": "code",
   "execution_count": 6,
   "id": "eb68265d",
   "metadata": {},
   "outputs": [
    {
     "data": {
      "text/plain": [
       "(array([3], dtype=int64),)"
      ]
     },
     "execution_count": 6,
     "metadata": {},
     "output_type": "execute_result"
    }
   ],
   "source": [
    "np.where(a==1)"
   ]
  },
  {
   "cell_type": "code",
   "execution_count": 8,
   "id": "854222f9",
   "metadata": {},
   "outputs": [
    {
     "data": {
      "text/plain": [
       "(array([], dtype=int64),)"
      ]
     },
     "execution_count": 8,
     "metadata": {},
     "output_type": "execute_result"
    }
   ],
   "source": [
    "np.where(a==0)"
   ]
  },
  {
   "cell_type": "markdown",
   "id": "6815317d",
   "metadata": {},
   "source": [
    "#### np.nonzero() : it will return the index of the non zero element in the array.\n"
   ]
  },
  {
   "cell_type": "code",
   "execution_count": 9,
   "id": "5b6ffb1a",
   "metadata": {},
   "outputs": [],
   "source": [
    "#syntax: np.nonzero()\n",
    "b = np.array([2,3,44,5,2,0,1,0])"
   ]
  },
  {
   "cell_type": "code",
   "execution_count": 10,
   "id": "69ac243b",
   "metadata": {},
   "outputs": [
    {
     "data": {
      "text/plain": [
       "(array([0, 1, 2, 3, 4, 6], dtype=int64),)"
      ]
     },
     "execution_count": 10,
     "metadata": {},
     "output_type": "execute_result"
    }
   ],
   "source": [
    "np.nonzero(b)"
   ]
  },
  {
   "cell_type": "markdown",
   "id": "2b6f1ea9",
   "metadata": {},
   "source": [
    "#### Np.extract(): \n",
    "      it will return the element based on the condition \n",
    "      - Syntax; np.extract(conditon , array_name)"
   ]
  },
  {
   "cell_type": "code",
   "execution_count": 14,
   "id": "e4c2b931",
   "metadata": {},
   "outputs": [],
   "source": [
    "c = np.array([2,3,11,5,66,43,12])"
   ]
  },
  {
   "cell_type": "code",
   "execution_count": 16,
   "id": "2b82d425",
   "metadata": {},
   "outputs": [
    {
     "data": {
      "text/plain": [
       "array([11, 66, 43, 12])"
      ]
     },
     "execution_count": 16,
     "metadata": {},
     "output_type": "execute_result"
    }
   ],
   "source": [
    "np.extract(c>5 , c)"
   ]
  },
  {
   "cell_type": "markdown",
   "id": "d4c5b962",
   "metadata": {},
   "source": [
    "#### Np.Append  \n",
    "* Numpy is fixed in size \n",
    "\n",
    "- it is used to add the element in the numpy array \n",
    "- it will not make any changes directly in existing array \n",
    "- we have to create a new array to see the changes \n",
    "- it is taking extra array for aappend \n",
    "\n",
    "syntax: \n",
    "    np.append(array , element)"
   ]
  },
  {
   "cell_type": "code",
   "execution_count": 18,
   "id": "dca931bc",
   "metadata": {},
   "outputs": [],
   "source": [
    "c = np.array([2,3,11,5,66,43,12])"
   ]
  },
  {
   "cell_type": "code",
   "execution_count": 19,
   "id": "a6eb2417",
   "metadata": {},
   "outputs": [
    {
     "data": {
      "text/plain": [
       "array([ 2,  3, 11,  5, 66, 43, 12, 12])"
      ]
     },
     "execution_count": 19,
     "metadata": {},
     "output_type": "execute_result"
    }
   ],
   "source": [
    "np.append(c,12)"
   ]
  },
  {
   "cell_type": "markdown",
   "id": "71281025",
   "metadata": {},
   "source": [
    "#### Np.insert()\n",
    "    *it will insert the element into numpy array at the particular position \n",
    "    -but to see the changes we have to create another array. \n",
    "    \n",
    "    syntax: \n",
    "        np.insert(arrayname , index , item )"
   ]
  },
  {
   "cell_type": "code",
   "execution_count": 20,
   "id": "492964fa",
   "metadata": {},
   "outputs": [
    {
     "data": {
      "text/plain": [
       "array([ 2,  3, 11, 44,  5, 66, 43, 12])"
      ]
     },
     "execution_count": 20,
     "metadata": {},
     "output_type": "execute_result"
    }
   ],
   "source": [
    "np.insert(c,3,44)"
   ]
  },
  {
   "cell_type": "markdown",
   "id": "fede1aff",
   "metadata": {},
   "source": [
    "#### Np.concatenate():\n",
    "\n",
    "* It is used to concatenate the numpy array to another numpy array \n",
    "\n",
    "- it will create another numpy array \n",
    "\n",
    "- syntax:\n",
    "     np.concatenate(array_name ,[i1,i2.....])"
   ]
  },
  {
   "cell_type": "code",
   "execution_count": 21,
   "id": "86b7575c",
   "metadata": {},
   "outputs": [],
   "source": [
    "array1 = np.array([12,13,15,44,23])"
   ]
  },
  {
   "cell_type": "code",
   "execution_count": 23,
   "id": "625b8a66",
   "metadata": {},
   "outputs": [
    {
     "data": {
      "text/plain": [
       "array([12, 13, 15, 44, 23,  2,  3, 11,  5, 66, 43, 12])"
      ]
     },
     "execution_count": 23,
     "metadata": {},
     "output_type": "execute_result"
    }
   ],
   "source": [
    "array2 = np.concatenate((array1,c))\n",
    "array2"
   ]
  },
  {
   "cell_type": "markdown",
   "id": "7298055f",
   "metadata": {},
   "source": [
    "#### Reshaping :    \n",
    "    * it convert the one numpy array into another dimensions \n",
    "    \n",
    "    - syntax; \n",
    "            1.array_name = np.array([]).reshape(x_dim,y_dim)\n",
    "              array_name.reshape()\n",
    "              \n",
    "* If only one row present in a matrix "
   ]
  },
  {
   "cell_type": "code",
   "execution_count": 25,
   "id": "acebfbcf",
   "metadata": {},
   "outputs": [],
   "source": [
    "a1 = np.array([1,2,3,4,5,6])"
   ]
  },
  {
   "cell_type": "code",
   "execution_count": 26,
   "id": "a8da052a",
   "metadata": {},
   "outputs": [
    {
     "data": {
      "text/plain": [
       "(6,)"
      ]
     },
     "execution_count": 26,
     "metadata": {},
     "output_type": "execute_result"
    }
   ],
   "source": [
    "a1.shape"
   ]
  },
  {
   "cell_type": "code",
   "execution_count": 29,
   "id": "d9226b18",
   "metadata": {},
   "outputs": [
    {
     "data": {
      "text/plain": [
       "array([[1, 2],\n",
       "       [3, 4],\n",
       "       [5, 6]])"
      ]
     },
     "execution_count": 29,
     "metadata": {},
     "output_type": "execute_result"
    }
   ],
   "source": [
    "a1.reshape(3,2)"
   ]
  },
  {
   "cell_type": "markdown",
   "id": "196211be",
   "metadata": {},
   "source": [
    "##### Toggle the binary  matrix using bitwise operator "
   ]
  },
  {
   "cell_type": "code",
   "execution_count": 4,
   "id": "f3e7e54a",
   "metadata": {},
   "outputs": [
    {
     "name": "stdout",
     "output_type": "stream",
     "text": [
      "[[0 1 0]\n",
      " [1 0 1]\n",
      " [0 0 1]]\n"
     ]
    }
   ],
   "source": [
    "import numpy as np \n",
    "\n",
    "a = np.array([\n",
    "    [1, 0, 1],\n",
    "    [0, 1, 0],\n",
    "    [1, 1, 0]\n",
    "])\n",
    "\n",
    "a_tog = a^1\n",
    "print(a_tog)"
   ]
  },
  {
   "cell_type": "code",
   "execution_count": 5,
   "id": "68f26b7d",
   "metadata": {},
   "outputs": [
    {
     "name": "stdout",
     "output_type": "stream",
     "text": [
      "[[0 1 0]\n",
      " [1 0 1]\n",
      " [0 0 1]]\n"
     ]
    }
   ],
   "source": [
    "a = np.array([\n",
    "    [1, 0, 1],\n",
    "    [0, 1, 0],\n",
    "    [1, 1, 0]\n",
    "])\n",
    "\n",
    "a_tog = 1-a\n",
    "print(a_tog)"
   ]
  },
  {
   "cell_type": "code",
   "execution_count": 11,
   "id": "29530f37",
   "metadata": {},
   "outputs": [
    {
     "name": "stdout",
     "output_type": "stream",
     "text": [
      "[2, 4, 6]\n"
     ]
    }
   ],
   "source": [
    "#Without using Vectorization/Numpy \n",
    "def double_a(a):\n",
    "    double = []\n",
    "    for i in a:\n",
    "        double.append(i*2)\n",
    "    return double\n",
    "a = [1,2,3]\n",
    "result = double_a(a)\n",
    "print(result)\n"
   ]
  },
  {
   "cell_type": "code",
   "execution_count": 13,
   "id": "e77e3343",
   "metadata": {},
   "outputs": [
    {
     "name": "stdout",
     "output_type": "stream",
     "text": [
      "[2 4 6]\n"
     ]
    }
   ],
   "source": [
    "import numpy as np \n",
    "\n",
    "a = np.array([1,2,3])\n",
    "doubled = a*2\n",
    "print(doubled)"
   ]
  },
  {
   "cell_type": "markdown",
   "id": "753ee799",
   "metadata": {},
   "source": [
    "##### We can acessing the array element using their indexing , mentioning the row and column "
   ]
  },
  {
   "cell_type": "code",
   "execution_count": 2,
   "id": "81e71541",
   "metadata": {},
   "outputs": [
    {
     "data": {
      "text/plain": [
       "2"
      ]
     },
     "execution_count": 2,
     "metadata": {},
     "output_type": "execute_result"
    }
   ],
   "source": [
    "import numpy as np\n",
    "a = np.array([1,2,3,4])\n",
    "a[1]"
   ]
  },
  {
   "cell_type": "markdown",
   "id": "7ad6f03e",
   "metadata": {},
   "source": [
    "#### Slicing in Array"
   ]
  },
  {
   "cell_type": "code",
   "execution_count": 4,
   "id": "12fdfaa2",
   "metadata": {},
   "outputs": [],
   "source": [
    "a1 = np.arange(10)\n",
    "a2 = np.arange(5)"
   ]
  },
  {
   "cell_type": "code",
   "execution_count": 5,
   "id": "089f1860",
   "metadata": {},
   "outputs": [],
   "source": [
    "a1[5:] = a2[::-1]"
   ]
  },
  {
   "cell_type": "code",
   "execution_count": 6,
   "id": "044cb084",
   "metadata": {},
   "outputs": [
    {
     "data": {
      "text/plain": [
       "array([0, 1, 2, 3, 4, 4, 3, 2, 1, 0])"
      ]
     },
     "execution_count": 6,
     "metadata": {},
     "output_type": "execute_result"
    }
   ],
   "source": [
    "a1"
   ]
  },
  {
   "cell_type": "code",
   "execution_count": 7,
   "id": "f65be17b",
   "metadata": {},
   "outputs": [],
   "source": [
    "b1 = np.array([2,3,4,5])\n",
    "b2 = np.array([1,2,3,4])\n",
    "b3 = np.array([2,3,4,5])"
   ]
  },
  {
   "cell_type": "code",
   "execution_count": 8,
   "id": "7e119657",
   "metadata": {},
   "outputs": [],
   "source": [
    "d = ((b1<=b2)) & (b1<=b3).all()"
   ]
  },
  {
   "cell_type": "code",
   "execution_count": 9,
   "id": "ec8fdf35",
   "metadata": {},
   "outputs": [
    {
     "name": "stdout",
     "output_type": "stream",
     "text": [
      "[False False False False]\n"
     ]
    }
   ],
   "source": [
    "print(d)"
   ]
  },
  {
   "cell_type": "markdown",
   "id": "461606dd",
   "metadata": {},
   "source": [
    "### Stastics in NumPy\n",
    "##### 1 Descriptive Statistics\n",
    "   * Descriptive statistics summarize and describe the main features of a dataset.\n",
    "\n",
    "* It helps in understanding the basic characteristics of the data without making conclusions beyond the given dataset.\n",
    "\n",
    "###### Types of Descriptive Statistics:\n",
    "\n",
    "* Measures of Central Tendency: Mean, Median, Mode\n",
    "\n",
    "* Measures of Dispersion: Range, Variance, Standard Deviation, Interquartile Range\n",
    "\n",
    "* Measures of Shape: Skewness, Kurtosis\n",
    "\n",
    "* Data Representation: Tables, Charts (Bar Graph, Histogram, Pie Chart, Box Plot)\n",
    "\n",
    "* There are 2 Types of data 1. Numerical data and 2.Categorical Data\n",
    "\n",
    "###### Mode : \n",
    "* It will work in the categorical data \n",
    "- It means maximum occurence of the datapoints \n",
    "\n",
    "\n",
    "##### 2. Inferential Statistics\n",
    "* Inferential statistics allow us to make predictions or generalizations about a population based on sample data.\n",
    "\n",
    "* It involves probability theory and hypothesis testing.\n",
    "\n",
    "     Types of Inferential Statistics:\n",
    "\n",
    "* Estimation: Point Estimation, Interval Estimation (Confidence Intervals)\n",
    "\n",
    "* Hypothesis Testing: Null & Alternative Hypothesis, p-value, t-tests, chi-square test\n",
    "\n",
    "* Regression Analysis: Linear Regression, Logistic Regression\n",
    "\n",
    "* ANOVA (Analysis of Variance)\n",
    "\n",
    "* Correlation Analysis: Pearson’s & Spearman’s Correlation"
   ]
  },
  {
   "cell_type": "code",
   "execution_count": 1,
   "id": "3fcae72a",
   "metadata": {},
   "outputs": [],
   "source": [
    "#write a python function to count all the square submatrix possible in given matrix\n",
    "\n"
   ]
  },
  {
   "cell_type": "markdown",
   "id": "c34ee3cf",
   "metadata": {},
   "source": [
    "##### Correlation\n",
    "\n",
    "    Correlation is a statistical measure that expresses the strength and direction of a relationship between two variables. It helps determine how one variable moves concerning another.\n",
    "\n",
    "*  Types of Correlation\n",
    "    Positive Correlation: If one variable increases, the other also increases (e.g., height and weight).\n",
    "\n",
    "* Negative Correlation: If one variable increases, the other decreases (e.g., price of a product and demand).\n",
    "\n",
    "* Zero Correlation: No relationship between the variables."
   ]
  },
  {
   "cell_type": "code",
   "execution_count": 2,
   "id": "57fabe77",
   "metadata": {},
   "outputs": [
    {
     "name": "stdout",
     "output_type": "stream",
     "text": [
      "[[1. 1.]\n",
      " [1. 1.]]\n"
     ]
    }
   ],
   "source": [
    "import numpy as np\n",
    "\n",
    "x = np.array([10, 20, 30, 40, 50])\n",
    "y = np.array([15, 25, 35, 45, 55])\n",
    "\n",
    "correlation = np.corrcoef(x, y)  # Pearson correlation matrix\n",
    "print(correlation)\n"
   ]
  },
  {
   "cell_type": "code",
   "execution_count": 3,
   "id": "3d38f180",
   "metadata": {},
   "outputs": [
    {
     "data": {
      "text/plain": [
       "array([[75, 48, 27,  5, 90],\n",
       "       [29, 65, 31, 18, 22],\n",
       "       [92, 71,  1, 94, 92],\n",
       "       [57, 36, 71, 89, 23]])"
      ]
     },
     "execution_count": 3,
     "metadata": {},
     "output_type": "execute_result"
    }
   ],
   "source": [
    "a = np.random.randint(1, 100, (4, 5))\n",
    "a"
   ]
  },
  {
   "cell_type": "code",
   "execution_count": 6,
   "id": "c9f431ce",
   "metadata": {},
   "outputs": [],
   "source": [
    "fill = (a>15) & (a%2==0)"
   ]
  },
  {
   "cell_type": "code",
   "execution_count": 7,
   "id": "86a21b47",
   "metadata": {},
   "outputs": [
    {
     "data": {
      "text/plain": [
       "array([[False,  True, False, False,  True],\n",
       "       [False, False, False,  True,  True],\n",
       "       [ True, False, False,  True,  True],\n",
       "       [False,  True, False, False, False]])"
      ]
     },
     "execution_count": 7,
     "metadata": {},
     "output_type": "execute_result"
    }
   ],
   "source": [
    "fill"
   ]
  },
  {
   "cell_type": "code",
   "execution_count": 8,
   "id": "b795ecc1",
   "metadata": {},
   "outputs": [
    {
     "data": {
      "text/plain": [
       "array([48, 90, 18, 22, 92, 94, 92, 36])"
      ]
     },
     "execution_count": 8,
     "metadata": {},
     "output_type": "execute_result"
    }
   ],
   "source": [
    "a[fill]"
   ]
  },
  {
   "cell_type": "markdown",
   "id": "25057ee5",
   "metadata": {},
   "source": [
    "##### Broadcasting In NumPy\n",
    "* Its a ability to expand the array to perform the operations with the larger array.\n",
    "\n",
    "* Broadcasting is a process to perform the operation of small matrices and large matrix \n",
    "\n",
    "* With the help of this concept different size matrix operation can perform "
   ]
  },
  {
   "cell_type": "code",
   "execution_count": 9,
   "id": "df673e2b",
   "metadata": {},
   "outputs": [
    {
     "data": {
      "text/plain": [
       "array([[5., 5., 5.],\n",
       "       [5., 5., 5.],\n",
       "       [5., 5., 5.]])"
      ]
     },
     "execution_count": 9,
     "metadata": {},
     "output_type": "execute_result"
    }
   ],
   "source": [
    "aa = np.ones((3,3))+4\n",
    "aa"
   ]
  },
  {
   "cell_type": "code",
   "execution_count": 27,
   "id": "677d70cc",
   "metadata": {},
   "outputs": [
    {
     "data": {
      "text/plain": [
       "array([[ 0,  1,  2,  3],\n",
       "       [ 4,  5,  6,  7],\n",
       "       [ 8,  9, 10, 11]])"
      ]
     },
     "execution_count": 27,
     "metadata": {},
     "output_type": "execute_result"
    }
   ],
   "source": [
    "aa4 = np.arange(12).reshape(3,4)\n",
    "aa5 = np.arange(12).reshape(4,3)\n",
    "aa4\n"
   ]
  },
  {
   "cell_type": "code",
   "execution_count": 28,
   "id": "8d826eab",
   "metadata": {},
   "outputs": [
    {
     "data": {
      "text/plain": [
       "array([[ 0,  1,  2],\n",
       "       [ 3,  4,  5],\n",
       "       [ 6,  7,  8],\n",
       "       [ 9, 10, 11]])"
      ]
     },
     "execution_count": 28,
     "metadata": {},
     "output_type": "execute_result"
    }
   ],
   "source": [
    "aa5"
   ]
  },
  {
   "cell_type": "code",
   "execution_count": 29,
   "id": "4aaae51d",
   "metadata": {},
   "outputs": [
    {
     "ename": "ValueError",
     "evalue": "operands could not be broadcast together with shapes (3,4) (4,3) ",
     "output_type": "error",
     "traceback": [
      "\u001b[1;31m---------------------------------------------------------------------------\u001b[0m",
      "\u001b[1;31mValueError\u001b[0m                                Traceback (most recent call last)",
      "Cell \u001b[1;32mIn[29], line 1\u001b[0m\n\u001b[1;32m----> 1\u001b[0m aa4 \u001b[38;5;241m+\u001b[39m aa5\n",
      "\u001b[1;31mValueError\u001b[0m: operands could not be broadcast together with shapes (3,4) (4,3) "
     ]
    }
   ],
   "source": [
    "aa4 + aa5"
   ]
  },
  {
   "cell_type": "code",
   "execution_count": 43,
   "id": "f0a6dbf5",
   "metadata": {},
   "outputs": [],
   "source": [
    "a1 = np.arange(18).reshape(3,6)\n",
    "a2 = np.arange(3).reshape(3,1)\n",
    "\n"
   ]
  },
  {
   "cell_type": "code",
   "execution_count": 44,
   "id": "1ae0e3e1",
   "metadata": {},
   "outputs": [
    {
     "data": {
      "text/plain": [
       "array([[ 0,  1,  2,  3,  4,  5],\n",
       "       [ 7,  8,  9, 10, 11, 12],\n",
       "       [14, 15, 16, 17, 18, 19]])"
      ]
     },
     "execution_count": 44,
     "metadata": {},
     "output_type": "execute_result"
    }
   ],
   "source": [
    "a1+a2"
   ]
  },
  {
   "cell_type": "markdown",
   "id": "4ea50d53",
   "metadata": {},
   "source": [
    "##### RMO & CMO  ( array is faster because of RMO)"
   ]
  },
  {
   "cell_type": "code",
   "execution_count": 2,
   "id": "329c7f54",
   "metadata": {},
   "outputs": [
    {
     "data": {
      "text/plain": [
       "array([[ 6,  8],\n",
       "       [10, 12]])"
      ]
     },
     "execution_count": 2,
     "metadata": {},
     "output_type": "execute_result"
    }
   ],
   "source": [
    "# Concatenate 2 matrices :\n",
    "import numpy as np\n",
    "a1 = np.array([[1,2],[3,4]])\n",
    "a2 = np.array([[5,6] ,[7,8]])\n",
    "\n",
    "a1+a2"
   ]
  },
  {
   "cell_type": "code",
   "execution_count": 3,
   "id": "20096240",
   "metadata": {},
   "outputs": [
    {
     "data": {
      "text/plain": [
       "array([[1, 2],\n",
       "       [3, 4],\n",
       "       [5, 6],\n",
       "       [7, 8]])"
      ]
     },
     "execution_count": 3,
     "metadata": {},
     "output_type": "execute_result"
    }
   ],
   "source": [
    "np.concatenate([a1,a2])"
   ]
  },
  {
   "cell_type": "code",
   "execution_count": 10,
   "id": "ce0ef784",
   "metadata": {},
   "outputs": [
    {
     "data": {
      "text/plain": [
       "array([[1, 2, 3, 4],\n",
       "       [5, 6, 7, 8]])"
      ]
     },
     "execution_count": 10,
     "metadata": {},
     "output_type": "execute_result"
    }
   ],
   "source": [
    "np.concatenate([a1,a2]).reshape(2,4)"
   ]
  },
  {
   "cell_type": "code",
   "execution_count": 7,
   "id": "ce55d5a2",
   "metadata": {},
   "outputs": [
    {
     "data": {
      "text/plain": [
       "array([[1, 2, 5, 6],\n",
       "       [3, 4, 7, 8]])"
      ]
     },
     "execution_count": 7,
     "metadata": {},
     "output_type": "execute_result"
    }
   ],
   "source": [
    "np.hstack([a1,a2]) # it is concatenate horizontally "
   ]
  },
  {
   "cell_type": "code",
   "execution_count": 9,
   "id": "41682c90",
   "metadata": {},
   "outputs": [
    {
     "data": {
      "text/plain": [
       "array([[1, 2],\n",
       "       [3, 4],\n",
       "       [5, 6],\n",
       "       [7, 8]])"
      ]
     },
     "execution_count": 9,
     "metadata": {},
     "output_type": "execute_result"
    }
   ],
   "source": [
    "np.vstack([a1,a2]) # It is conatenate Vertically "
   ]
  },
  {
   "cell_type": "markdown",
   "id": "0d06c689",
   "metadata": {},
   "source": [
    "### Copy & View\n",
    "\n",
    "*Copy()* : \n",
    "* When we use copy() , it will create duplicate array with different buffer.\n",
    "\n",
    "* The changes made in copied array will not effect the orignal array and vice versa \n",
    "\n",
    "* When we are using copy we required extra memory buffer so it is not memory efficient \n",
    "\n",
    "* So whenever we use copy() we have the store the data aswell as its meta deta(all the details)\n",
    "\n",
    "*View()*:\n",
    "* When we will use view() it will not create the copy, it will create the view \n",
    "* both orignal array and views are at the same place.\n",
    "- So we don't need extra buffer to store the data but we required to store the metadata to differentia two array \n",
    "- so view() is memory efficient \n",
    "\n",
    "- To ch3ck the both array at the same space : np.shares_memory(array1,array2)\n",
    "                "
   ]
  },
  {
   "cell_type": "code",
   "execution_count": 11,
   "id": "5848476d",
   "metadata": {},
   "outputs": [
    {
     "name": "stdout",
     "output_type": "stream",
     "text": [
      "[12 13 14 15]\n"
     ]
    }
   ],
   "source": [
    "z1 = np.array([12,13,14,15])\n",
    "x1 = z1.copy()\n",
    "print(x1)"
   ]
  },
  {
   "cell_type": "code",
   "execution_count": 15,
   "id": "fd1c00e5",
   "metadata": {},
   "outputs": [
    {
     "name": "stdout",
     "output_type": "stream",
     "text": [
      "[10 13 14 15]\n",
      "[12 13 14 15]\n"
     ]
    }
   ],
   "source": [
    "x1[0] = 10\n",
    "print(x1)\n",
    "print(z1)"
   ]
  },
  {
   "cell_type": "code",
   "execution_count": 14,
   "id": "b70ea9b5",
   "metadata": {},
   "outputs": [
    {
     "name": "stdout",
     "output_type": "stream",
     "text": [
      "[99  2  3  4  5]\n",
      "[99  2  3  4  5]\n"
     ]
    }
   ],
   "source": [
    "z2 = np.array([1,2,3,4,5])\n",
    "v1 = z2.view()\n",
    "\n",
    "v1[0]=99\n",
    "print(v1)\n",
    "\n",
    "print(z2)"
   ]
  },
  {
   "cell_type": "code",
   "execution_count": 18,
   "id": "7b222408",
   "metadata": {},
   "outputs": [
    {
     "data": {
      "text/plain": [
       "True"
      ]
     },
     "execution_count": 18,
     "metadata": {},
     "output_type": "execute_result"
    }
   ],
   "source": [
    "np.shares_memory(z2,v1) #View"
   ]
  },
  {
   "cell_type": "code",
   "execution_count": 19,
   "id": "ef4119a5",
   "metadata": {},
   "outputs": [
    {
     "data": {
      "text/plain": [
       "False"
      ]
     },
     "execution_count": 19,
     "metadata": {},
     "output_type": "execute_result"
    }
   ],
   "source": [
    "np.shares_memory(z1,x1) #Copy "
   ]
  },
  {
   "cell_type": "markdown",
   "id": "54a08a64",
   "metadata": {},
   "source": [
    "##### Flatening "
   ]
  },
  {
   "cell_type": "code",
   "execution_count": 20,
   "id": "6eb1e3e5",
   "metadata": {},
   "outputs": [
    {
     "name": "stdout",
     "output_type": "stream",
     "text": [
      "Original Array:\n",
      " [[1 2]\n",
      " [3 4]]\n",
      "Flattened Array: [1 2 3 4]\n"
     ]
    }
   ],
   "source": [
    "import numpy as np\n",
    "\n",
    "arr = np.array([[1, 2], [3, 4]])\n",
    "flat_arr = arr.flatten()\n",
    "\n",
    "print(\"Original Array:\\n\", arr)\n",
    "print(\"Flattened Array:\", flat_arr)\n"
   ]
  },
  {
   "cell_type": "code",
   "execution_count": 21,
   "id": "6dd54d1e",
   "metadata": {},
   "outputs": [
    {
     "name": "stdout",
     "output_type": "stream",
     "text": [
      "Modified Flattened Array: [100   2   3   4]\n",
      "Original Array:\n",
      " [[100   2]\n",
      " [  3   4]]\n"
     ]
    }
   ],
   "source": [
    "ravel_arr = arr.ravel()\n",
    "ravel_arr[0] = 100  # Modify the view\n",
    "\n",
    "print(\"Modified Flattened Array:\", ravel_arr)\n",
    "print(\"Original Array:\\n\", arr)  # arr is modified!\n"
   ]
  },
  {
   "cell_type": "code",
   "execution_count": null,
   "id": "c1345bd5",
   "metadata": {},
   "outputs": [],
   "source": []
  }
 ],
 "metadata": {
  "kernelspec": {
   "display_name": "Python 3 (ipykernel)",
   "language": "python",
   "name": "python3"
  },
  "language_info": {
   "codemirror_mode": {
    "name": "ipython",
    "version": 3
   },
   "file_extension": ".py",
   "mimetype": "text/x-python",
   "name": "python",
   "nbconvert_exporter": "python",
   "pygments_lexer": "ipython3",
   "version": "3.11.3"
  }
 },
 "nbformat": 4,
 "nbformat_minor": 5
}
